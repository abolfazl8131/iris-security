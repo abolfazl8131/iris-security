{
 "cells": [
  {
   "cell_type": "code",
   "execution_count": 1,
   "metadata": {},
   "outputs": [],
   "source": [
    "import cv2\n",
    "import numpy \n",
    "import matplotlib.pyplot as plt\n",
    "import mediapipe"
   ]
  },
  {
   "cell_type": "code",
   "execution_count": 13,
   "metadata": {},
   "outputs": [
    {
     "name": "stderr",
     "output_type": "stream",
     "text": [
      "[ WARN:0@1001.896] global /opt/conda/conda-bld/opencv-suite_1664548337286/work/modules/videoio/src/cap_gstreamer.cpp (862) isPipelinePlaying OpenCV | GStreamer warning: GStreamer: pipeline have not been created\n"
     ]
    },
    {
     "name": "stdout",
     "output_type": "stream",
     "text": [
      "['hhhhhhhhhhh', 'hhhhhhhhhhh', 'hhhhhhhhhhh', 'hhhhhhhhhhh', 'hhhhhhhhhhh', 'hhhhhhhhhhh', 'hhhhhhhhhhh', 'hhhhhhhhhhh', 'hhhhhhhhhhh', 'hhhhhhhhhhh', 'hhhhhhhhhhh', 'hhhhhhhhhhh', 'hhhhhhhhhhh', 'hhhhhhhhhhh', 'hhhhhhhhhhh', 'hhhhhhhhhhh', 'hhhhhhhhhhh', 'hhhhhhhhhhh', 'hhhhhhhhhhh', 'hhhhhhhhhhh', 'hhhhhhhhhhh', 'hhhhhhhhhhh', 'hhhhhhhhhhh', 'hhhhhhhhhhh', 'hhhhhhhhhhh', 'hhhhhhhhhhh', 'hhhhhhhhhhh', 'hhhhhhhhhhh', 'hhhhhhhhhhh', 'hhhhhhhhhhh', 'hhhhhhhhhhh', 'hhhhhhhhhhh', 'hhhhhhhhhhh', 'hhhhhhhhhhh', 'hhhhhhhhhhh', 'hhhhhhhhhhh', 'hhhhhhhhhhh', 'hhhhhhhhhhh', 'hhhhhhhhhhh', 'hhhhhhhhhhh', 'hhhhhhhhhhh', 'hhhhhhhhhhh', 'hhhhhhhhhhh', 'hhhhhhhhhhh', 'hhhhhhhhhhh', 'hhhhhhhhhhh', 'hhhhhhhhhhh', 'hhhhhhhhhhh', 'hhhhhhhhhhh', 'hhhhhhhhhhh', 'hhhhhhhhhhh', 'hhhhhhhhhhh', 'hhhhhhhhhhh', 'hhhhhhhhhhh', 'hhhhhhhhhhh', 'hhhhhhhhhhh', 'hhhhhhhhhhh', 'hhhhhhhhhhh', 'hhhhhhhhhhh', 'hhhhhhhhhhh', 'hhhhhhhhhhh', 'hhhhhhhhhhh', 'hhhhhhhhhhh', 'hhhhhhhhhhh', 'hhhhhhhhhhh', 'hhhhhhhhhhh', 'hhhhhhhhhhh', 'hhhhhhhhhhh', 'hhhhhhhhhhh', 'hhhhhhhhhhh', 'hhhhhhhhhhh', 'hhhhhhhhhhh', 'hhhhhhhhhhh', 'hhhhhhhhhhh', 'hhhhhhhhhhh', 'hhhhhhhhhhh', 'hhhhhhhhhhh', 'hhhhhhhhhhh', 'hhhhhhhhhhh', 'hhhhhhhhhhh', 'hhhhhhhhhhh', 'hhhhhhhhhhh', 'hhhhhhhhhhh', 'hhhhhhhhhhh', 'hhhhhhhhhhh', 'hhhhhhhhhhh', 'hhhhhhhhhhh', 'hhhhhhhhhhh', 'hhhhhhhhhhh', 'hhhhhhhhhhh', 'hhhhhhhhhhh', 'hhhhhhhhhhh', 'hhhhhhhhhhh', 'hhhhhhhhhhh', 'hhhhhhhhhhh', 'hhhhhhhhhhh', 'hhhhhhhhhhh', 'hhhhhhhhhhh']\n"
     ]
    }
   ],
   "source": [
    "\n",
    "\n",
    "class IrisDetection():\n",
    "\n",
    "    cap = cv2.VideoCapture(0)\n",
    "\n",
    "    _face_mesh = mediapipe.solutions.face_mesh\n",
    "\n",
    "    LEFT_EYE = [362, 382,381,380,374,373,390,249,263,466,388,387,386,385,384,398]\n",
    "\n",
    "    LEFT_IRIS = [474 , 475,476,477]\n",
    "\n",
    "    RIGHT_EYE = [33,7,163,144,145,153,154,155,133,173,157,158,159,160,161,246]\n",
    "\n",
    "    RIGHT_IRIS = [469,470,471,472]\n",
    "\n",
    "    array_of_iris = []\n",
    "\n",
    "    def video_capture(self):\n",
    "        i = 0\n",
    "\n",
    "        \n",
    "\n",
    "        while True:\n",
    "            ret , frame = self.cap.read()\n",
    "            frame = cv2.flip(frame,1)\n",
    "            rgb_frame = cv2.cvtColor(frame , cv2.COLOR_BGR2RGB)\n",
    "            img_h , img_w = frame.shape[:2]\n",
    "            results = self.mesh.process(rgb_frame)\n",
    "            if results.multi_face_landmarks:\n",
    "                #print(results.multi_face_landmarks[0].landmark)\n",
    "                mesh_points = numpy.array([numpy.multiply([p.x , p.y] , [img_w , img_h]).astype(int) for p in results.multi_face_landmarks[0].landmark])\n",
    "                #print(mesh_points)\n",
    "                # cv2.polylines(frame , [mesh_points[self.LEFT_IRIS]] , True , (0,255,0) , 1 , cv2.LINE_AA)\n",
    "                # cv2.polylines(frame , [mesh_points[self.RIGHT_IRIS]] , True , (0,255,0) , 1 , cv2.LINE_AA)\n",
    "\n",
    "                (l_cx , l_cy) , l_radius = cv2.minEnclosingCircle(mesh_points[self.LEFT_IRIS])\n",
    "                (r_cx , r_cy) , r_radius = cv2.minEnclosingCircle(mesh_points[self.RIGHT_IRIS])\n",
    "\n",
    "                center_left = numpy.array([l_cx,l_cy] , dtype=numpy.int32)\n",
    "                center_right = numpy.array([r_cx,r_cy] , dtype=numpy.int32)\n",
    "                self.array_of_iris.append('hhhhhhhhhhh')\n",
    "                cv2.circle(frame , center_right , int(r_radius) , (255,0,255) , 1 , cv2.LINE_AA)\n",
    "\n",
    "                cv2.circle(frame , center_left , int(l_radius) , (255,0,255) , 1 , cv2.LINE_AA)\n",
    "            i+=1\n",
    "\n",
    "            cv2.imshow('img' , frame)\n",
    "            key = cv2.waitKey(1)\n",
    "            if key == ord('q'):\n",
    "                break\n",
    "        \n",
    "        self.cap.release()\n",
    "        cv2.destroyAllWindows()\n",
    "        \n",
    "\n",
    "        \n",
    "\n",
    "    def face_mesh(self):\n",
    "        with self._face_mesh.FaceMesh(max_num_faces = 1 , \n",
    "            refine_landmarks=True,\n",
    "            min_detection_confidence = 0.5,\n",
    "            min_tracking_confidence = 0.5) as self.mesh:\n",
    "                self.video_capture()\n",
    "\n",
    "    def return_iris(self):\n",
    "        print(self.array_of_iris)\n",
    "\n",
    "    def run(self):\n",
    "        self.face_mesh()\n",
    "        \n",
    "        \n",
    "\n",
    "\n",
    "b = IrisDetection()\n",
    "\n",
    "b.run()\n",
    "\n",
    "b.return_iris()"
   ]
  },
  {
   "cell_type": "code",
   "execution_count": null,
   "metadata": {},
   "outputs": [],
   "source": []
  }
 ],
 "metadata": {
  "kernelspec": {
   "display_name": "Python 3.9.13 ('tf-gpu')",
   "language": "python",
   "name": "python3"
  },
  "language_info": {
   "codemirror_mode": {
    "name": "ipython",
    "version": 3
   },
   "file_extension": ".py",
   "mimetype": "text/x-python",
   "name": "python",
   "nbconvert_exporter": "python",
   "pygments_lexer": "ipython3",
   "version": "3.9.13"
  },
  "orig_nbformat": 4,
  "vscode": {
   "interpreter": {
    "hash": "e2980d0c822d8a154ab6945e21c992f7874dbc2a69d403febea40e37e2c9ec6f"
   }
  }
 },
 "nbformat": 4,
 "nbformat_minor": 2
}
